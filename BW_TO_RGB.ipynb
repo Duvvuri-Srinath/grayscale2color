{
  "cells": [
    {
      "cell_type": "code",
      "execution_count": 10,
      "metadata": {
        "colab": {
          "base_uri": "https://localhost:8080/"
        },
        "id": "y3Zw4VkugHL9",
        "outputId": "bfedc8bc-e214-4dcd-f7ea-8f3806259038"
      },
      "outputs": [
        {
          "name": "stderr",
          "output_type": "stream",
          "text": [
            "\n",
            "[notice] A new release of pip is available: 23.2.1 -> 24.2\n",
            "[notice] To update, run: python.exe -m pip install --upgrade pip\n"
          ]
        },
        {
          "name": "stdout",
          "output_type": "stream",
          "text": [
            "Requirement already satisfied: numpy in c:\\python312\\lib\\site-packages (2.1.1)\n",
            "Requirement already satisfied: opencv-python in c:\\python312\\lib\\site-packages (4.10.0.84)\n"
          ]
        }
      ],
      "source": [
        "!pip install numpy opencv-python\n"
      ]
    },
    {
      "cell_type": "code",
      "execution_count": 11,
      "metadata": {
        "id": "GZ_ujT0Zgy_D"
      },
      "outputs": [],
      "source": [
        "# import numpy,cv,argparse,os\n",
        "import numpy as np\n",
        "import argparse\n",
        "import cv2\n",
        "import os"
      ]
    },
    {
      "cell_type": "code",
      "execution_count": 12,
      "metadata": {
        "id": "g_6ZuY5gwJyj"
      },
      "outputs": [],
      "source": [
        "# Paths to load the model\n",
        "DIR = r\"./modal\"\n",
        "PROTOTXT = os.path.join(DIR, r\"colorization_deploy_v2.prototxt\")\n",
        "POINTS = os.path.join(DIR, r\"pts_in_hull.npy\")\n",
        "MODEL = os.path.join(DIR, r\"colorization_release_v2.caffemodel\")"
      ]
    },
    {
      "cell_type": "code",
      "execution_count": 13,
      "metadata": {
        "id": "Kl0FQtmYwkgO"
      },
      "outputs": [
        {
          "data": {
            "text/plain": [
              "'ap = argparse.ArgumentParser()\\nap.add_argument(\"-i\", \"--image\", type=str, required=True,\\n\\thelp=\"path to input black and white image\")\\nargs = vars(ap.parse_args())'"
            ]
          },
          "execution_count": 13,
          "metadata": {},
          "output_type": "execute_result"
        }
      ],
      "source": [
        "# Argparser\n",
        "ap = argparse.ArgumentParser()\n",
        "ap.add_argument(\"-i\", \"--image\", type=str, required=True,\n",
        "\thelp=\"path to input black and white image\")\n",
        "args = vars(ap.parse_args())"
      ]
    },
    {
      "cell_type": "code",
      "execution_count": 14,
      "metadata": {
        "id": "z6zpZIJ2wlzn"
      },
      "outputs": [
        {
          "name": "stdout",
          "output_type": "stream",
          "text": [
            "Load model\n"
          ]
        }
      ],
      "source": [
        "# Load the Model\n",
        "print(\"Load model\")\n",
        "net = cv2.dnn.readNetFromCaffe(PROTOTXT, MODEL)\n",
        "pts = np.load(POINTS)"
      ]
    },
    {
      "cell_type": "code",
      "execution_count": 15,
      "metadata": {
        "id": "X7MIA00Fw1Tw"
      },
      "outputs": [],
      "source": [
        "# Load centers for ab channel quantization used for rebalancing.\n",
        "class8 = net.getLayerId(\"class8_ab\")\n",
        "conv8 = net.getLayerId(\"conv8_313_rh\")\n",
        "pts = pts.transpose().reshape(2, 313, 1, 1)\n",
        "net.getLayer(class8).blobs = [pts.astype(\"float32\")]\n",
        "net.getLayer(conv8).blobs = [np.full([1, 313], 2.606, dtype=\"float32\")]"
      ]
    },
    {
      "cell_type": "code",
      "execution_count": 16,
      "metadata": {
        "id": "g8RR6WIuywyV"
      },
      "outputs": [],
      "source": [
        "# filenamr = input('Enter filepath')\n",
        "filenamr = './images/building.jpg'"
      ]
    },
    {
      "cell_type": "code",
      "execution_count": 17,
      "metadata": {
        "id": "2dZnLUy4w5ZR"
      },
      "outputs": [
        {
          "name": "stdout",
          "output_type": "stream",
          "text": [
            "Colorizing the image\n"
          ]
        }
      ],
      "source": [
        "# Load the input image\n",
        "image = cv2.imread(args[\"image\"])\n",
        "scaled = image.astype(\"float32\") / 255.0\n",
        "lab = cv2.cvtColor(scaled, cv2.COLOR_BGR2LAB)\n",
        "\n",
        "resized = cv2.resize(lab, (224, 224))\n",
        "L = cv2.split(resized)[0]\n",
        "L -= 50\n",
        "\n",
        "print(\"Colorizing the image\")\n",
        "net.setInput(cv2.dnn.blobFromImage(L))\n",
        "ab = net.forward()[0, :, :, :].transpose((1, 2, 0))\n",
        "\n",
        "ab = cv2.resize(ab, (image.shape[1], image.shape[0]))\n",
        "\n",
        "L = cv2.split(lab)[0]\n",
        "colorized = np.concatenate((L[:, :, np.newaxis], ab), axis=2)\n",
        "\n",
        "colorized = cv2.cvtColor(colorized, cv2.COLOR_LAB2BGR)\n",
        "colorized = np.clip(colorized, 0, 1)\n",
        "\n",
        "colorized = (255 * colorized).astype(\"uint8\")\n",
        "\n",
        "cv2.imshow(\"Original\", image)\n",
        "cv2.imshow(\"Colorized\", colorized)\n",
        "cv2.waitKey(0)"
      ]
    }
  ],
  "metadata": {
    "colab": {
      "provenance": []
    },
    "kernelspec": {
      "display_name": "Python 3",
      "name": "python3"
    },
    "language_info": {
      "codemirror_mode": {
        "name": "ipython",
        "version": 3
      },
      "file_extension": ".py",
      "mimetype": "text/x-python",
      "name": "python",
      "nbconvert_exporter": "python",
      "pygments_lexer": "ipython3",
      "version": "3.12.1"
    }
  },
  "nbformat": 4,
  "nbformat_minor": 0
}
